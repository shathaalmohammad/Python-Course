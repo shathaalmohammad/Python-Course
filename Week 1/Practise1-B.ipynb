{
 "cells": [
  {
   "cell_type": "code",
   "execution_count": 11,
   "metadata": {},
   "outputs": [
    {
     "name": "stdout",
     "output_type": "stream",
     "text": [
      "Enter your Numbee: 105\n",
      "105.0\n"
     ]
    }
   ],
   "source": [
    "#Write a program that solves this function:\n",
    "#𝑓(𝑥) ={−𝑥, 𝑥 < −100\n",
    "#       𝑥4, −100 ≤ 𝑥 ≤ −25\n",
    "#        3 ∗ 𝑥2 − 1, −25 < 𝑥 ≤ 2\n",
    "#        3.14/2X + 3𝑥 , 0 < 𝑥 ≤ 100\n",
    "#         𝑥, 𝑥 > 100\n",
    "#---------------------------------------------------------\n",
    "\n",
    "Number = float(input(\"Enter your Numbee: \"))\n",
    "\n",
    "if Number < -100: \n",
    "    print(-Number)\n",
    "elif Number >= -100 and Number <= -25:\n",
    "    print(Number**4)\n",
    "\n",
    "elif Number >-25 and Number <= 0:\n",
    "    print(3*Number**2-1)\n",
    "    \n",
    "elif Number >0 and Number <= 100:\n",
    "    print((3.14/2)*Number +3**Number)\n",
    "if Number>100:\n",
    "    print(Number)\n",
    "    \n",
    "    #answer question:D\n",
    "    # float type : means it is a number that has a decimal place. Floats are used when more precision is needed.\n",
    "\n"
   ]
  },
  {
   "cell_type": "code",
   "execution_count": null,
   "metadata": {},
   "outputs": [],
   "source": []
  }
 ],
 "metadata": {
  "kernelspec": {
   "display_name": "Python 3",
   "language": "python",
   "name": "python3"
  },
  "language_info": {
   "codemirror_mode": {
    "name": "ipython",
    "version": 3
   },
   "file_extension": ".py",
   "mimetype": "text/x-python",
   "name": "python",
   "nbconvert_exporter": "python",
   "pygments_lexer": "ipython3",
   "version": "3.7.0"
  }
 },
 "nbformat": 4,
 "nbformat_minor": 2
}
