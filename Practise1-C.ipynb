{
 "cells": [
  {
   "cell_type": "code",
   "execution_count": null,
   "metadata": {
    "scrolled": true
   },
   "outputs": [
    {
     "name": "stdout",
     "output_type": "stream",
     "text": [
      " Enter your Number (0) Convert from Celsius temperature to Fahrenheit \n",
      " Enter your Number (1) Convert from Fahrenheit temperature to Celsius\n"
     ]
    }
   ],
   "source": [
    "# PROGRAM CONVERT FROM CELSIUS TEMPERATURE TO FAHRENHIT \n",
    "# AND CONVERT FROM FAHRENHIT TEMPERATURE TO CELSIUS\n",
    "#--------------------------------------------------------\n",
    "\n",
    "print(\" Enter your Number (0) Convert from Celsius temperature to Fahrenheit \\n Enter your Number (1) Convert from Fahrenheit temperature to Celsius\")\n",
    "Number = float(input(\" Enter your Number :\"))\n",
    "\n",
    "if Number == 0: \n",
    "    Number_Celsius = float(input(\" Enter your Number Celsius :\"))\n",
    "    print(\"Convert from Celsius temperature to Fahrenheit\",1.8*Number+32)\n",
    "elif Number==1:\n",
    "    Number_Fahrenheit = float(input(\" Enter your Number Fahrenheit :\"))\n",
    "    print(\"  Convert from Fahrenheit temperature to Celsius\",(Number-32)/1.8)\n",
    "    \n"
   ]
  },
  {
   "cell_type": "code",
   "execution_count": null,
   "metadata": {},
   "outputs": [],
   "source": []
  },
  {
   "cell_type": "code",
   "execution_count": null,
   "metadata": {},
   "outputs": [],
   "source": []
  }
 ],
 "metadata": {
  "kernelspec": {
   "display_name": "Python 3",
   "language": "python",
   "name": "python3"
  },
  "language_info": {
   "codemirror_mode": {
    "name": "ipython",
    "version": 3
   },
   "file_extension": ".py",
   "mimetype": "text/x-python",
   "name": "python",
   "nbconvert_exporter": "python",
   "pygments_lexer": "ipython3",
   "version": "3.7.0"
  }
 },
 "nbformat": 4,
 "nbformat_minor": 2
}
