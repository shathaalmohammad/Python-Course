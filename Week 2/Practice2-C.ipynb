{
 "cells": [
  {
   "cell_type": "code",
   "execution_count": 4,
   "metadata": {},
   "outputs": [
    {
     "name": "stdout",
     "output_type": "stream",
     "text": [
      "calculate the mean : 28.22222222222222\n",
      "calculate the median : 10.0\n",
      "calculate the standard deviation: 32.57394247546744\n"
     ]
    }
   ],
   "source": [
    "#Search for the ‘numpy’ module and try to use it to calculate the\n",
    "#mean, median and standard deviation of the following values:\n",
    "#(23,76,97,28,10,8,2,4,6)\n",
    "#------------------------------------------------------------------------\n",
    "\n",
    "import numpy \n",
    "Number =[23,76,97,28,10,8,2,4,6]\n",
    "mean_number=numpy.mean(Number)\n",
    "median_number=numpy.median(Number)\n",
    "median_number=numpy.median(Number)\n",
    "std_number=numpy.std(Number)\n",
    "\n",
    "print(\"calculate the mean :\",mean_number)\n",
    "print(\"calculate the median :\",median_number)\n",
    "print(\"calculate the standard deviation:\",std_number)"
   ]
  },
  {
   "cell_type": "code",
   "execution_count": 2,
   "metadata": {},
   "outputs": [
    {
     "name": "stdout",
     "output_type": "stream",
     "text": [
      "calculate the standard deviation:  [23, 76, 97, 28, 10, 8, 2, 4, 6]\n",
      "Standard Deviation :  34.54988342157531\n"
     ]
    }
   ],
   "source": [
    "import math\n",
    "import sys\n",
    "\n",
    "def sd_calc(data):\n",
    "    n = len(data)\n",
    "\n",
    "    if n <= 1:\n",
    "        return 0.0\n",
    "\n",
    "    mean, sd = avg_calc(data), 0.0\n",
    "\n",
    "    # calculate stan. dev.\n",
    "    for el in data:\n",
    "        sd += (float(el) - mean)**2\n",
    "    sd = math.sqrt(sd / float(n-1))\n",
    "\n",
    "    return sd\n",
    "\n",
    "def avg_calc(ls):\n",
    "    n, mean = len(ls), 0.0\n",
    "\n",
    "    if n <= 1:\n",
    "        return ls[0]\n",
    "\n",
    "    # calculate average\n",
    "    for el in ls:\n",
    "        mean = mean + float(el)\n",
    "    mean = mean / float(n)\n",
    "\n",
    "    return mean\n",
    "\n",
    "data = [23,76,97,28,10,8,2,4,6]\n",
    "print(\"calculate the standard deviation: \",data)\n",
    "print(\"Standard Deviation : \",sd_calc(data))\n",
    "\n"
   ]
  },
  {
   "cell_type": "code",
   "execution_count": null,
   "metadata": {},
   "outputs": [],
   "source": []
  },
  {
   "cell_type": "code",
   "execution_count": null,
   "metadata": {},
   "outputs": [],
   "source": []
  }
 ],
 "metadata": {
  "kernelspec": {
   "display_name": "Python 3",
   "language": "python",
   "name": "python3"
  },
  "language_info": {
   "codemirror_mode": {
    "name": "ipython",
    "version": 3
   },
   "file_extension": ".py",
   "mimetype": "text/x-python",
   "name": "python",
   "nbconvert_exporter": "python",
   "pygments_lexer": "ipython3",
   "version": "3.7.0"
  }
 },
 "nbformat": 4,
 "nbformat_minor": 2
}
