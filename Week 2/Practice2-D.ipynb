{
 "cells": [
  {
   "cell_type": "code",
   "execution_count": 1,
   "metadata": {
    "scrolled": true
   },
   "outputs": [],
   "source": [
    "#Search for the states of Jordan and store them in a list\n",
    "#- Print the states the starts with the letter ‘a’.\n",
    "#- Print the states that has 5 letters only.\n",
    "#--------------------------------------------------------------------------\n"
   ]
  },
  {
   "cell_type": "code",
   "execution_count": 9,
   "metadata": {},
   "outputs": [
    {
     "name": "stdout",
     "output_type": "stream",
     "text": [
      "the states that has 5 letters only :\n",
      "Amman\n",
      "Zarqa\n",
      "Irbid\n",
      "Aqaba\n",
      "karak\n",
      "the states the starts with the letter ‘a’ :\n",
      "Amman\n",
      "Aqaba\n",
      "Ajloun\n"
     ]
    }
   ],
   "source": [
    "states_jordan =\"Amman\",\"Zarqa\",\"Irbid\",\"Maan\",\"Salt\",\"Mafraq\",\"Aqaba\",\"Jarash\",\"Ajloun\",\"Tafilah\",\"karak\",\"Madaba\"\n",
    "State =[]\n",
    "\n",
    "index_count =0\n",
    "print(\"the states that has 5 letters only :\")\n",
    "for I in states_jordan :\n",
    "    # print the states of Jordan \n",
    "    #print(\"the index  {} of the states  {} \".format(index_count,I))\n",
    "    State = I\n",
    "    if len(State)==5:\n",
    "        print(State)\n",
    "        \n",
    "    index_count+=1\n",
    "print(\"the states the starts with the letter ‘a’ :\")    \n",
    "for J in states_jordan :\n",
    "    State = J\n",
    "    if State[0] =='A':\n",
    "        print(State)\n",
    "\n",
    "    index_count+=1\n",
    "\n",
    "   \n"
   ]
  },
  {
   "cell_type": "code",
   "execution_count": null,
   "metadata": {},
   "outputs": [],
   "source": []
  }
 ],
 "metadata": {
  "kernelspec": {
   "display_name": "Python 3",
   "language": "python",
   "name": "python3"
  },
  "language_info": {
   "codemirror_mode": {
    "name": "ipython",
    "version": 3
   },
   "file_extension": ".py",
   "mimetype": "text/x-python",
   "name": "python",
   "nbconvert_exporter": "python",
   "pygments_lexer": "ipython3",
   "version": "3.7.0"
  }
 },
 "nbformat": 4,
 "nbformat_minor": 2
}
