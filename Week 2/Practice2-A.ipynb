{
 "cells": [
  {
   "cell_type": "code",
   "execution_count": 29,
   "metadata": {},
   "outputs": [
    {
     "name": "stdout",
     "output_type": "stream",
     "text": [
      "6\n"
     ]
    }
   ],
   "source": [
    "#Write a new function called print_prime_numbers that takes one\n",
    "#argument called n, use this function to print the first n prime\n",
    "#numbers.\n",
    "#-------------------------------------------------------------------\n",
    "def  prime_numbers(n):  \n",
    "    prime = [True for i in range(n + 1)] \n",
    "    p = 2\n",
    "    while(p * p <= n): \n",
    "        if (prime[p] == True): \n",
    "            i = p * 2\n",
    "            while(i <= n): \n",
    "                prime[i] = False\n",
    "                i += p \n",
    "        p += 1\n",
    "\n",
    "    prod = 1\n",
    "    for i in range(2, n+1): \n",
    "        if (prime[i]): \n",
    "            prod *= i \n",
    "    return prod \n",
    "\n",
    " \n",
    "n = 3\n",
    "\n",
    "print(prime_numbers(n)) \n",
    "\n"
   ]
  },
  {
   "cell_type": "code",
   "execution_count": null,
   "metadata": {},
   "outputs": [],
   "source": []
  }
 ],
 "metadata": {
  "kernelspec": {
   "display_name": "Python 3",
   "language": "python",
   "name": "python3"
  },
  "language_info": {
   "codemirror_mode": {
    "name": "ipython",
    "version": 3
   },
   "file_extension": ".py",
   "mimetype": "text/x-python",
   "name": "python",
   "nbconvert_exporter": "python",
   "pygments_lexer": "ipython3",
   "version": "3.7.0"
  }
 },
 "nbformat": 4,
 "nbformat_minor": 2
}
