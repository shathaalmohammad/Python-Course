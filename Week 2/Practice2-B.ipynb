{
 "cells": [
  {
   "cell_type": "code",
   "execution_count": 3,
   "metadata": {},
   "outputs": [
    {
     "name": "stdout",
     "output_type": "stream",
     "text": [
      "Enter your number :10\n",
      " Enter your Number (0) Convert from JordanianDinar to US Dollars\n",
      " Enter your Number (1) Convert from US Dollars to JordanianDinar\n",
      " Enter your Number (2) Convert from Turkish Lira to JordanianDinar\n",
      " Enter your Number (3) Convert from JordanianDinar to Turkish Lira\n",
      " Enter your Number (4) Convert from  US Dollars to Turkish Lira\n",
      " Enter your Number (5) Convert from  Turkish Lira to US Dollars\n",
      " Enter your Number :2\n",
      " Convert from Turkish Lira to JordanianDinar 1.2\n"
     ]
    }
   ],
   "source": [
    "\n",
    "#Write a function that can convert between these three currencies\n",
    "#(Jordanian Dinar, Turkish Lira and US Dollars). Let the user choose the\n",
    "#two currencies he want to convert between.\n",
    "#--------------------------------------------------------------------------------\n",
    "\n",
    "number=float(input(\"Enter your number :\"))\n",
    "\n",
    "def JordanianDinar_Us(number):\n",
    "    return  number/0.710\n",
    "\n",
    "def Us_JordanianDinar(number):\n",
    "    return  0.710*number\n",
    "\n",
    "def Us_Turkish(number):\n",
    "    return  5.70*number\n",
    "\n",
    "def Turkish_Us(number):\n",
    "    return number/ 5.70\n",
    "\n",
    "def Turkish_jordain(number):\n",
    "    return number* 0.12\n",
    "\n",
    "def jordain_Turkish(number):\n",
    "    return number/ 0.12\n",
    "\n",
    "\n",
    "\n",
    "\n",
    "print(\" Enter your Number (0) Convert from JordanianDinar to US Dollars\")\n",
    "print(\" Enter your Number (1) Convert from US Dollars to JordanianDinar\") \n",
    "print(\" Enter your Number (2) Convert from Turkish Lira to JordanianDinar\") \n",
    "print(\" Enter your Number (3) Convert from JordanianDinar to Turkish Lira\")\n",
    "print(\" Enter your Number (4) Convert from  US Dollars to Turkish Lira\")\n",
    "print(\" Enter your Number (5) Convert from  Turkish Lira to US Dollars\")\n",
    "\n",
    "\n",
    "choose = float(input(\" Enter your Number :\"))\n",
    " \n",
    "if choose == 0: \n",
    "    print(\"Convert from JordanianDinar to US Dollars\",JordanianDinar_Us(number))\n",
    "elif choose==1:\n",
    "    print(\" Convert from US Dollars to JordanianDinar\",Us_JordanianDinar(number))\n",
    "elif choose == 2: \n",
    "    print(\" Convert from Turkish Lira to JordanianDinar\",Turkish_jordain(number))\n",
    "elif choose==3:\n",
    "    print(\" Convert from JordanianDinar to Turkish Lira\",jordain_Turkish(number))\n",
    "elif choose == 4: \n",
    "    print(\" Convert from  US Dollars to Turkish Lira\",Us_Turkish(number))\n",
    "elif choose==5:\n",
    "    print(\" Convert from  Turkish Lira to US Dollars\",Turkish_Us(number))\n",
    "elif choose==6:\n",
    "    print(\"try again\")\n",
    "\n",
    "    \n",
    "\n"
   ]
  },
  {
   "cell_type": "code",
   "execution_count": null,
   "metadata": {},
   "outputs": [],
   "source": [
    "    \n"
   ]
  },
  {
   "cell_type": "code",
   "execution_count": null,
   "metadata": {},
   "outputs": [],
   "source": []
  }
 ],
 "metadata": {
  "kernelspec": {
   "display_name": "Python 3",
   "language": "python",
   "name": "python3"
  },
  "language_info": {
   "codemirror_mode": {
    "name": "ipython",
    "version": 3
   },
   "file_extension": ".py",
   "mimetype": "text/x-python",
   "name": "python",
   "nbconvert_exporter": "python",
   "pygments_lexer": "ipython3",
   "version": "3.7.0"
  }
 },
 "nbformat": 4,
 "nbformat_minor": 2
}
